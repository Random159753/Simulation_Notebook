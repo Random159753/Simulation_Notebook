{
 "cells": [
  {
   "cell_type": "code",
   "execution_count": 3,
   "id": "b144d0c4",
   "metadata": {},
   "outputs": [],
   "source": [
    "import matplotlib.pyplot as plt\n",
    "import numpy as np\n",
    "import seaborn as sns\n",
    "import timeit\n",
    "\n",
    "sns.set_style(\"ticks\")\n",
    "%matplotlib inline\n",
    "%load_ext lab_black"
   ]
  },
  {
   "cell_type": "code",
   "execution_count": 58,
   "id": "3e1be82a",
   "metadata": {},
   "outputs": [],
   "source": [
    "np.random.seed(100)\n",
    "\n",
    "n_iters = 10 ** 5\n",
    "# number of repetitinos per simulation\n",
    "bins_n = 7\n",
    "# number of bins wanted in histogram\n",
    "\n",
    "\n",
    "# model parameters:\n",
    "\n",
    "num_rooms = 100\n",
    "# number of rooms\n",
    "rental_rate = 250\n",
    "# daily rental rate\n",
    "variable_cost = 60\n",
    "# variable cost for room\n",
    "\n",
    "no_show_p = 0.05\n",
    "# probability a guest makes a reservation but doesn't show up\n",
    "cost_overbooked = 400\n",
    "# cost for accomndating overbooked rooms\n",
    "\n",
    "num_reserve = np.arange(95, 101)\n",
    "# the number of reservations taken to be considered in simulation eg from 98 reservations to 110 reservations"
   ]
  },
  {
   "cell_type": "markdown",
   "id": "17289c84",
   "metadata": {},
   "source": [
    "### Calculation"
   ]
  },
  {
   "cell_type": "code",
   "execution_count": 54,
   "id": "1003dafc",
   "metadata": {},
   "outputs": [
    {
     "name": "stdout",
     "output_type": "stream",
     "text": [
      "(6, 10000)\n",
      "[[90 92 91 ... 91 94 93]\n",
      " [89 85 88 ... 90 88 93]\n",
      " [90 91 93 ... 91 91 92]\n",
      " [92 95 91 ... 93 95 93]\n",
      " [96 93 95 ... 94 97 91]\n",
      " [96 95 97 ... 95 95 93]]\n",
      "(6, 10000)\n",
      "Execution Time:  0.188564299999598\n"
     ]
    }
   ],
   "source": [
    "start = timeit.default_timer()\n",
    "# start execution timer\n",
    "\n",
    "\n",
    "num_arrivals = np.array(\n",
    "    [\n",
    "        [np.random.binomial(j, (1 - no_show_p)) for i in range(n_iters)]\n",
    "        for j in num_reserve\n",
    "    ]\n",
    ")\n",
    "print(num_arrivals.shape)\n",
    "print(num_arrivals)\n",
    "num_staying = np.minimum(num_arrivals, num_rooms)\n",
    "print(num_staying.shape)\n",
    "\n",
    "\"\"\"\n",
    "    # returns the number of people stayin\n",
    "    num_overbooked = np.maximum(0, num_arrivals - num_rooms)\n",
    "    # returns the number of overbooked rooms\n",
    "    daily_profit = (\n",
    "        rental_rate * j - variable_cost * num_staying - cost_overbooked * num_overbooked\n",
    "    )\n",
    "    # daily profit\n",
    "    avg_profit = np.average(daily_profit)\n",
    "    # returns the average daily profit per simulation\n",
    "    print(f\"Number of Reservation : {j} Average Profit: ${avg_profit:.2f}\")\n",
    "\n",
    "\"\"\"\n",
    "\n",
    "stop = timeit.default_timer()\n",
    "# stop execution timer\n",
    "print(\"Execution Time: \", stop - start)\n",
    "# print(num_arrivals_2)"
   ]
  },
  {
   "cell_type": "code",
   "execution_count": 32,
   "id": "2fb3ce76",
   "metadata": {},
   "outputs": [
    {
     "name": "stdout",
     "output_type": "stream",
     "text": [
      "(100000,)\n",
      "Execution Time:  4.763183599999934\n"
     ]
    }
   ],
   "source": [
    "start = timeit.default_timer()\n",
    "# start execution timer\n",
    "\n",
    "\n",
    "num_arrivals_2 = np.array([np.random.binomial(95, (1 - no_show_p)) for i in range(n_iters) ])\n",
    "num_arrivals_2 = np.array([np.random.binomial(96, (1 - no_show_p)) for i in range(n_iters) ])\n",
    "num_arrivals_2 = np.array([np.random.binomial(97, (1 - no_show_p)) for i in range(n_iters) ])\n",
    "num_arrivals_2 = np.array([np.random.binomial(98, (1 - no_show_p)) for i in range(n_iters) ])\n",
    "num_arrivals_2 = np.array([np.random.binomial(99, (1 - no_show_p)) for i in range(n_iters) ])\n",
    "num_arrivals_2 = np.array([np.random.binomial(100, (1 - no_show_p)) for i in range(n_iters) ])\n",
    "\n",
    "\n",
    "\n",
    "\n",
    "print(num_arrivals_2.shape)\n",
    "\n",
    "    \n",
    "stop = timeit.default_timer()\n",
    "# stop execution timer\n",
    "print(\"Execution Time: \", stop - start)\n",
    "# print(num_arrivals_2)\n"
   ]
  },
  {
   "cell_type": "code",
   "execution_count": 29,
   "id": "4989b271",
   "metadata": {},
   "outputs": [
    {
     "name": "stdout",
     "output_type": "stream",
     "text": [
      "(100000,)\n",
      "Execution Time:  4.7923046000000795\n"
     ]
    }
   ],
   "source": [
    "start = timeit.default_timer()\n",
    "# start execution timer\n",
    "\n",
    "\n",
    "for j in num_reserve:\n",
    "    num_arrivals = np.array([np.random.binomial(j, (1 - no_show_p)) for i in range(n_iters)])\n",
    "#     print(type(num_arrivals))\n",
    "print(num_arrivals_2.shape)\n",
    "\n",
    "stop = timeit.default_timer()\n",
    "# stop execution timer\n",
    "print(\"Execution Time: \", stop - start)\n",
    "# print(num_arrivals_2)"
   ]
  },
  {
   "cell_type": "code",
   "execution_count": 5,
   "id": "6da814f4",
   "metadata": {},
   "outputs": [
    {
     "name": "stdout",
     "output_type": "stream",
     "text": [
      "Execution Time:  0.44794849999999986\n"
     ]
    }
   ],
   "source": [
    "start = timeit.default_timer()\n",
    "for j in num_reserve:\n",
    "    arr_iters = np.ones(n_iters) * j\n",
    "    # initialize number of arrivals array\n",
    "    num_arrivals = []\n",
    "    for i in arr_iters:\n",
    "        num_arrivals.append(np.random.binomial(i, (1 - no_show_p), size=None))\n",
    "stop = timeit.default_timer()\n",
    "# stop execution timer\n",
    "print(\"Execution Time: \", stop - start)"
   ]
  },
  {
   "cell_type": "markdown",
   "id": "64de7423",
   "metadata": {},
   "source": [
    "### Original"
   ]
  },
  {
   "cell_type": "code",
   "execution_count": 24,
   "id": "d8c27102",
   "metadata": {},
   "outputs": [
    {
     "name": "stdout",
     "output_type": "stream",
     "text": [
      "Number of Reservation : 95 Average Profit: $18335.19\n",
      "Number of Reservation : 96 Average Profit: $18528.28\n",
      "Number of Reservation : 97 Average Profit: $18721.55\n",
      "Number of Reservation : 98 Average Profit: $18914.15\n",
      "Number of Reservation : 99 Average Profit: $19106.44\n",
      "Number of Reservation : 100 Average Profit: $19299.93\n",
      "Number of Reservation : 101 Average Profit: $19490.34\n",
      "Number of Reservation : 102 Average Profit: $19671.97\n",
      "Number of Reservation : 103 Average Profit: $19831.19\n",
      "Number of Reservation : 104 Average Profit: $19945.29\n",
      "Number of Reservation : 105 Average Profit: $20010.61\n",
      "Number of Reservation : 106 Average Profit: $20015.56\n",
      "Number of Reservation : 107 Average Profit: $19978.06\n",
      "Number of Reservation : 108 Average Profit: $19907.27\n",
      "Number of Reservation : 109 Average Profit: $19797.77\n",
      "Number of Reservation : 110 Average Profit: $19691.62\n",
      "Execution Time:  14.767758299999969\n"
     ]
    }
   ],
   "source": [
    "start = timeit.default_timer()\n",
    "# start execution timer\n",
    "\n",
    "for j in num_reserve:\n",
    "    arr_iters = np.ones(n_iters) * j\n",
    "    # initialize number of arrivals array\n",
    "    num_arrivals = []\n",
    "    for i in arr_iters:\n",
    "        num_arrivals.append(np.random.binomial(i, (1 - no_show_p), size=None))\n",
    "    # returns the number of arrivals\n",
    "    num_arrivals = np.array(num_arrivals)\n",
    "    # transform the number of arrivals into an numpy array\n",
    "    num_staying = np.minimum(num_arrivals, num_rooms)\n",
    "    # returns the number of people stayin\n",
    "    num_overbooked = np.maximum(0, num_arrivals - num_rooms)\n",
    "    # returns the number of overbooked rooms\n",
    "    daily_profit = (\n",
    "        rental_rate * j - variable_cost * num_staying - cost_overbooked * num_overbooked\n",
    "    )\n",
    "    # daily profit\n",
    "    avg_profit = np.average(daily_profit)\n",
    "    # returns the average daily profit per simulation\n",
    "    print(f\"Number of Reservation : {j} Average Profit: ${avg_profit:.2f}\")\n",
    "\n",
    "\n",
    "stop = timeit.default_timer()\n",
    "# stop execution timer\n",
    "print(\"Execution Time: \", stop - start)"
   ]
  },
  {
   "cell_type": "markdown",
   "id": "feb65018",
   "metadata": {},
   "source": [
    "### Vectorized"
   ]
  },
  {
   "cell_type": "code",
   "execution_count": 64,
   "id": "2fc25d05",
   "metadata": {},
   "outputs": [
    {
     "name": "stdout",
     "output_type": "stream",
     "text": [
      "daily rate [[23750]\n",
      " [24000]\n",
      " [24250]\n",
      " [24500]\n",
      " [24750]\n",
      " [25000]]\n",
      "(6, 1)\n",
      "hi [[18350 18230 18290 ... 18290 18110 18170]\n",
      " [18660 18900 18720 ... 18600 18720 18420]\n",
      " [18850 18790 18670 ... 18790 18790 18730]\n",
      " [18980 18800 19040 ... 18920 18800 18920]\n",
      " [18990 19170 19050 ... 19110 18930 19290]\n",
      " [19240 19300 19180 ... 19300 19300 19420]]\n",
      "[[18350 18230 18290 ... 18290 18110 18170]\n",
      " [18660 18900 18720 ... 18600 18720 18420]\n",
      " [18850 18790 18670 ... 18790 18790 18730]\n",
      " [18980 18800 19040 ... 18920 18800 18920]\n",
      " [18990 19170 19050 ... 19110 18930 19290]\n",
      " [19240 19300 19180 ... 19300 19300 19420]]\n",
      "(6, 10000)\n",
      "Number of Reservation : 95 Average Profit: $18334.43\n",
      "Number of Reservation : 96 Average Profit: $18528.552\n",
      "Number of Reservation : 97 Average Profit: $18721.444\n",
      "Number of Reservation : 98 Average Profit: $18912.068\n",
      "Number of Reservation : 99 Average Profit: $19107.306\n",
      "Number of Reservation : 100 Average Profit: $19301.47\n",
      "Execution Time:  0.005020999999942433\n"
     ]
    }
   ],
   "source": [
    "start = timeit.default_timer()\n",
    "# start execution timer\n",
    "\n",
    "# num_arrivals = np.array(num_arrivals)\n",
    "# transform the number of arrivals into an numpy array\n",
    "num_staying = np.minimum(num_arrivals, num_rooms)\n",
    "# returns the number of people stayin\n",
    "num_overbooked = np.maximum(0, num_arrivals - num_rooms)\n",
    "\n",
    "# print(rental_rate.dot(num_reserve))\n",
    "# returns the number of overbooked rooms\n",
    "# daily_profit = (\n",
    "#     rental_rate * num_reserve - variable_cost * num_staying - cost_overbooked * num_overbooked\n",
    "# )\n",
    "\n",
    "daily_profit = (\n",
    "    num_reserve.dot(rental_rate)[:, None]\n",
    "    - variable_cost * num_staying\n",
    "    - cost_overbooked * num_overbooked\n",
    ")\n",
    "# temp = variable_cost * num_staying.\n",
    "print(\"daily rate\", (num_reserve * (rental_rate))[:, None])\n",
    "print((num_reserve * (rental_rate))[:, None].shape)\n",
    "print(\"hi\", num_reserve.dot(rental_rate)[:, None] - variable_cost * num_staying)\n",
    "print(daily_profit)\n",
    "print(daily_profit.shape)\n",
    "# daily profit\n",
    "avg_profit = np.average(daily_profit, axis=1)\n",
    "# returns the average daily profit per simulation\n",
    "# for i,j in num_reserve,avg_profit:\n",
    "for i, j in zip(num_reserve, avg_profit):\n",
    "    print(f\"Number of Reservation : {i} Average Profit: ${j}\")\n",
    "\n",
    "\n",
    "stop = timeit.default_timer()\n",
    "# stop execution timer\n",
    "print(\"Execution Time: \", stop - start)"
   ]
  },
  {
   "cell_type": "markdown",
   "id": "7d929d89",
   "metadata": {},
   "source": [
    "# search on list comprehension with numpy arrays\n",
    "# 2 finish vector based code without ones function\n",
    "# 3 modify vector to matrix; and you need to add axis for finding min number staying profit etc etc \n",
    "# compare item 2 and 3 time performance"
   ]
  },
  {
   "cell_type": "code",
   "execution_count": null,
   "id": "2428611d",
   "metadata": {},
   "outputs": [],
   "source": []
  }
 ],
 "metadata": {
  "kernelspec": {
   "display_name": "Python 3 (ipykernel)",
   "language": "python",
   "name": "python3"
  },
  "language_info": {
   "codemirror_mode": {
    "name": "ipython",
    "version": 3
   },
   "file_extension": ".py",
   "mimetype": "text/x-python",
   "name": "python",
   "nbconvert_exporter": "python",
   "pygments_lexer": "ipython3",
   "version": "3.9.4"
  }
 },
 "nbformat": 4,
 "nbformat_minor": 5
}
