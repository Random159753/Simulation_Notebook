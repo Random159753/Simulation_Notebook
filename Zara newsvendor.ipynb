{
 "cells": [
  {
   "cell_type": "code",
   "execution_count": 2,
   "id": "bc5fa5c3",
   "metadata": {},
   "outputs": [],
   "source": [
    "import numpy as np\n",
    "import matplotlib.pyplot as plt\n",
    "import seaborn as sns\n",
    "\n",
    "%load_ext lab_black\n",
    "%matplotlib inline"
   ]
  },
  {
   "cell_type": "code",
   "execution_count": 3,
   "id": "af3a326c",
   "metadata": {},
   "outputs": [],
   "source": [
    "cost = 17.5\n",
    "f_price = 39.9\n",
    "mark_down = 11.5\n",
    "min_demand = 65\n",
    "max_demand = 115\n",
    "inventory = 100"
   ]
  },
  {
   "cell_type": "code",
   "execution_count": 107,
   "id": "d6220fdf",
   "metadata": {},
   "outputs": [
    {
     "name": "stdout",
     "output_type": "stream",
     "text": [
      "88.4\n",
      "1862.28\n"
     ]
    },
    {
     "data": {
      "text/plain": [
       "[Text(0.5, 1.0, 'Distribution of profit'),\n",
       " Text(0, 0.5, 'n'),\n",
       " Text(0.5, 0, '$ profit')]"
      ]
     },
     "execution_count": 107,
     "metadata": {},
     "output_type": "execute_result"
    },
    {
     "data": {
      "image/png": "[encoded data removed]",
      "text/plain": [
       "<Figure size 432x288 with 2 Axes>"
      ]
     },
     "metadata": {
      "needs_background": "light"
     },
     "output_type": "display_data"
    }
   ],
   "source": [
    "np.random.seed(100)\n",
    "n_sets = 3\n",
    "n_reps = 10\n",
    "ran_demand = np.random.randint(65, 115, n_reps)\n",
    "\n",
    "\n",
    "revenue_f = np.minimum(ran_demand, inventory) * f_price\n",
    "left_over = np.maximum(0, inventory - ran_demand)\n",
    "\n",
    "revenue_s = left_over * mark_down\n",
    "profit = revenue_f + revenue_s - inventory * cost\n",
    "avg_sales = np.average(ran_demand)\n",
    "avg_profit = np.average(profit)\n",
    "# print(revenue_f)\n",
    "# print(left_over)\n",
    "# print(revenue_s)\n",
    "# print(profit)\n",
    "print(avg_sales)\n",
    "print(avg_profit)\n",
    "fig, axes = plt.subplots(nrows=1, ncols=2)\n",
    "bins_n = int(np.ceil(np.log2(len(ran_demand))) + 1)\n",
    "axes[0].hist(ran_demand, bins=bins_n)\n",
    "axes[0].set(title=\"Distribution of demand\", ylabel=\"n\", xlabel=\"demand\")\n",
    "bins_n = int(np.ceil(np.log2(len(profit))) + 1)\n",
    "axes[1].hist(profit, bins=bins_n)\n",
    "axes[1].set(title=\"Distribution of profit\", ylabel=\"n\", xlabel=\"$ profit\")"
   ]
  },
  {
   "cell_type": "code",
   "execution_count": 121,
   "id": "27f46d8a",
   "metadata": {},
   "outputs": [
    {
     "name": "stdout",
     "output_type": "stream",
     "text": [
      "[ 73  89  68 104  88  80 113  75  95  99]\n",
      "[ 67  99  79  99 114 113  89  80 101 108]\n",
      "n array is\n",
      "[[ 67  99  79  99 114 113  89  80 101 108]\n",
      " [ 81  74  94  87  67  92 109  69  96  66]\n",
      " [ 78  84 101  69  92  68  72 114 112  66]\n",
      " [ 79  72  81  67 106  95  84  99  92 111]]\n",
      "avg sales is \n",
      "\n",
      "[94.9, 83.5, 85.6, 88.6]\n",
      "avg profit \n",
      "\n",
      "[1992.92, 1745.8399999999997, 1754.36, 1867.9599999999998]\n"
     ]
    },
    {
     "data": {
      "text/plain": [
       "[Text(0.5, 1.0, 'Distribution of profit'),\n",
       " Text(0, 0.5, 'n'),\n",
       " Text(0.5, 0, '$ profit')]"
      ]
     },
     "execution_count": 121,
     "metadata": {},
     "output_type": "execute_result"
    },
    {
     "data": {
      "image/png": "[encoded data removed]",
      "text/plain": [
       "<Figure size 432x288 with 2 Axes>"
      ]
     },
     "metadata": {
      "needs_background": "light"
     },
     "output_type": "display_data"
    }
   ],
   "source": [
    "np.random.seed(100)\n",
    "n_simulations = 4\n",
    "n_reps = 10\n",
    "\n",
    "\n",
    "ran_demand = np.random.randint(65, 115, n_reps)\n",
    "print(ran_demand)\n",
    "print(ran_demand2)\n",
    "bins_n = 5\n",
    "# print(ran_demand)\n",
    "\n",
    "\n",
    "def revenue_f(x):\n",
    "    return np.minimum(x, inventory) * f_price\n",
    "\n",
    "\n",
    "def left_over(x):\n",
    "    return np.maximum(0, inventory - x)\n",
    "\n",
    "\n",
    "def revenue_s(x):\n",
    "    return left_over(x) * mark_down\n",
    "\n",
    "\n",
    "# profit = revenue_f + revenue_s - inventory * cost\n",
    "def avg_sales(x):\n",
    "    return np.average(x, axis=0)\n",
    "\n",
    "\n",
    "def avg_profit(x):\n",
    "    return np.average(revenue_f(x) + revenue_s(x) - inventory * cost)\n",
    "\n",
    "\n",
    "n_array = np.random.randint(65, 115, n_simulations * n_reps).reshape(\n",
    "    (n_simulations), n_reps\n",
    ")\n",
    "print(\"n array is\")\n",
    "print(n_array)\n",
    "\n",
    "print(\"avg sales is \\n\")\n",
    "print(list(map(avg_sales, n_array)))\n",
    "\n",
    "print(\"avg profit \\n\")\n",
    "print(list(map(avg_profit, n_array)))\n",
    "\n",
    "\n",
    "#   map random set of arrays against function\n",
    "\n",
    "\n",
    "def plot_hist(axes, x):\n",
    "    return axes.hist(x, bins=bins_n)\n",
    "\n",
    "\n",
    "fig, axes = plt.subplots(nrows=1, ncols=2)\n",
    "plot_hist(axes[0], list(map(avg_sales, n_sets)))\n",
    "plot_hist(axes[1], list(map(avg_profit, n_sets)))\n",
    "# axes[0].hist(ran_demand, bins=bins_n)\n",
    "axes[0].set(title=\"Distribution of demand\", ylabel=\"n\", xlabel=\"demand\")\n",
    "# axes[1].hist(profit, bins=bins_n)\n",
    "axes[1].set(title=\"Distribution of profit\", ylabel=\"n\", xlabel=\"$ profit\")"
   ]
  },
  {
   "cell_type": "code",
   "execution_count": 28,
   "id": "fd2b9f27",
   "metadata": {},
   "outputs": [
    {
     "name": "stdout",
     "output_type": "stream",
     "text": [
      "89.14\n",
      "avg profit \n",
      "\n",
      "[-571.5999999999999]\n",
      "[ 73  89  68 104  88  80 113  75  95  99  67  99  79  99 114 113  89  80\n",
      " 101 108  81  74  94  87  67  92 109  69  96  66  78  84 101  69  92  68\n",
      "  72 114 112  66  79  72  81  67 106  95  84  99  92 111 114  95 113 112\n",
      " 104 110 103 109  83  65  99  75  82  73  78 107  95  82  69 105  92  92\n",
      "  84  79  65  78  77 107  68  71  68  85  80  75  88 112  68 106 113 108\n",
      " 101  70  72 103  87  95  99 107  85  96]\n",
      "\n",
      "\n",
      "[ 73  89  68 104  88  80 113  75  95  99  67  99  79  99 114 113  89  80\n",
      " 101 108  81  74  94  87  67  92 109  69  96  66  78  84 101  69  92  68\n",
      "  72 114 112  66  79  72  81  67 106  95  84  99  92 111 114  95 113 112\n",
      " 104 110 103 109  83  65  99  75  82  73  78 107  95  82  69 105  92  92\n",
      "  84  79  65  78  77 107  68  71  68  85  80  75  88 112  68 106 113 108\n",
      " 101  70  72 103  87  95  99 107  85  96]\n"
     ]
    },
    {
     "data": {
      "text/plain": [
       "[Text(0.5, 1.0, 'Distribution of profit'),\n",
       " Text(0, 0.5, 'n'),\n",
       " Text(0.5, 0, '$ profit')]"
      ]
     },
     "execution_count": 28,
     "metadata": {},
     "output_type": "execute_result"
    },
    {
     "data": {
      "image/png": "[encoded data removed]",
      "text/plain": [
       "<Figure size 432x288 with 2 Axes>"
      ]
     },
     "metadata": {
      "needs_background": "light"
     },
     "output_type": "display_data"
    }
   ],
   "source": [
    "np.random.seed(100)\n",
    "n_simulations = 1\n",
    "n_reps = 100\n",
    "n_sets = np.full((n_simulations, 1), 1)\n",
    "\n",
    "ran_demand = np.random.randint(65, 115, n_reps)\n",
    "\n",
    "bins_n = 7\n",
    "# print(ran_demand)\n",
    "\n",
    "\n",
    "def revenue_f(x):\n",
    "    return np.minimum(x, inventory) * f_price\n",
    "\n",
    "\n",
    "def left_over(x):\n",
    "    return np.maximum(0, inventory - x)\n",
    "\n",
    "\n",
    "def revenue_s(x):\n",
    "    return left_over(x) * mark_down\n",
    "\n",
    "\n",
    "# profit = revenue_f + revenue_s - inventory * cost\n",
    "def avg_sales(x):\n",
    "    return np.average(x)\n",
    "\n",
    "\n",
    "def avg_profit(x):\n",
    "\n",
    "    #     x = n * (np.random.randint(65, 115, n_reps))\n",
    "    return np.average(revenue_f(x) + revenue_s(x) - inventory * cost)\n",
    "\n",
    "\n",
    "# print(revenue_f)\n",
    "# print(left_over)\n",
    "# print(revenue_s(ran_demand))\n",
    "# print(profit)\n",
    "# print(avg_sales(ran_demand))\n",
    "# print(\"avg profit \\n\")\n",
    "# print(list(map(avg_profit, n_sets)))\n",
    "\n",
    "\n",
    "# def plot_hist(axes, x):\n",
    "#     return axes.hist(x, bins=bins_n)\n",
    "\n",
    "\n",
    "fig, axes = plt.subplots(nrows=1, ncols=2)\n",
    "# plot_hist(axes[0], list(map(avg_sales, n_sets)))\n",
    "# plot_hist(axes[1], list(map(avg_profit, n_sets)))\n",
    "axes[0].hist(list(map(avg_sales, ran_demand)), bins=bins_n)\n",
    "axes[0].set(title=\"Distribution of demand\", ylabel=\"n\", xlabel=\"demand\")\n",
    "# axes[1].hist(avg_profit(ran_demand), bins=bins_n)\n",
    "axes[1].hist(list(map(avg_profit, ran_demand)), bins=bins_n)\n",
    "\n",
    "axes[1].set(title=\"Distribution of profit\", ylabel=\"n\", xlabel=\"$ profit\")"
   ]
  },
  {
   "cell_type": "code",
   "execution_count": null,
   "id": "020b151f",
   "metadata": {},
   "outputs": [],
   "source": []
  }
 ],
 "metadata": {
  "kernelspec": {
   "display_name": "Python 3 (ipykernel)",
   "language": "python",
   "name": "python3"
  },
  "language_info": {
   "codemirror_mode": {
    "name": "ipython",
    "version": 3
   },
   "file_extension": ".py",
   "mimetype": "text/x-python",
   "name": "python",
   "nbconvert_exporter": "python",
   "pygments_lexer": "ipython3",
   "version": "3.9.4"
  }
 },
 "nbformat": 4,
 "nbformat_minor": 5
}
