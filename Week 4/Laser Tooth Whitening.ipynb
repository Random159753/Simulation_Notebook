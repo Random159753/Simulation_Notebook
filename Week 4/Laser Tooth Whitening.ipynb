{
 "cells": [
  {
   "cell_type": "code",
   "execution_count": 1,
   "id": "22c5e044",
   "metadata": {},
   "outputs": [],
   "source": [
    "import matplotlib.pyplot as plt\n",
    "import numpy as np\n",
    "import seaborn as sns\n",
    "import timeit\n",
    "\n",
    "sns.set_style(\"ticks\")\n",
    "%matplotlib inline\n",
    "%load_ext lab_black"
   ]
  },
  {
   "cell_type": "code",
   "execution_count": 2,
   "id": "9f2fa5a9",
   "metadata": {},
   "outputs": [],
   "source": [
    "SMALL_SIZE = 15\n",
    "MEDIUM_SIZE = 18\n",
    "BIGGER_SIZE = 21\n",
    "plt.rc(\"font\", size=SMALL_SIZE)  # controls default text sizes\n",
    "plt.rc(\"axes\", titlesize=MEDIUM_SIZE)  # fontsize of the axes title\n",
    "plt.rc(\"axes\", labelsize=MEDIUM_SIZE)  # fontsize of the x and y labels\n",
    "plt.rc(\"xtick\", labelsize=SMALL_SIZE)  # fontsize of the tick labels\n",
    "plt.rc(\"ytick\", labelsize=SMALL_SIZE)  # fontsize of the tick labels\n",
    "plt.rc(\"legend\", fontsize=SMALL_SIZE)  # legend fontsize\n",
    "plt.rc(\"figure\", titlesize=BIGGER_SIZE)  # fontsize of the figure title"
   ]
  },
  {
   "cell_type": "code",
   "execution_count": 6,
   "id": "12477ebf",
   "metadata": {},
   "outputs": [
    {
     "name": "stdout",
     "output_type": "stream",
     "text": [
      "Execution Time:  0.014716900000003363\n",
      "The average total revenue is:$ 4148.28\n"
     ]
    },
    {
     "data": {
      "text/plain": [
       "<function matplotlib.pyplot.show(close=None, block=None)>"
      ]
     },
     "execution_count": 6,
     "metadata": {},
     "output_type": "execute_result"
    },
    {
     "data": {
      "image/png": "[encoded data removed]",
      "text/plain": [
       "<Figure size 432x288 with 1 Axes>"
      ]
     },
     "metadata": {
      "needs_background": "light"
     },
     "output_type": "display_data"
    }
   ],
   "source": [
    "n_iters = 10 ** 5\n",
    "res_table = np.arange(0, 11)\n",
    "frq_table = [0.02, 0.05, 0.08, 0.16, 0.26, 0.18, 0.11, 0.07, 0.05, 0.01, 0.01]\n",
    "min_num_res = 2\n",
    "p_electing = 0.25\n",
    "r_per_procedure = 4000\n",
    "\n",
    "# model paramters\n",
    "start = timeit.default_timer()\n",
    "# start execution timer\n",
    "\n",
    "num_res = np.random.choice(res_table, size=n_iters, replace=True, p=frq_table)\n",
    "# print(num_res)\n",
    "num_res = np.where(num_res <= min_num_res, 0, num_res)\n",
    "# print(num_res)\n",
    "num_procedure = np.random.binomial(n=num_res, p=p_electing)\n",
    "# print(num_procedure)\n",
    "total_revenue = r_per_procedure * num_procedure\n",
    "# print(total_revenue)\n",
    "avg_revenue = np.average(total_revenue)\n",
    "stop = timeit.default_timer()\n",
    "# stop execution timer\n",
    "\n",
    "print(\"Execution Time: \", stop - start)\n",
    "\n",
    "print(f\"The average total revenue is:$ {avg_revenue:.2f}\")\n",
    "fig, ax = plt.subplots()\n",
    "ax = sns.histplot(total_revenue, color=\"red\")\n",
    "ax.set(xlabel=\"Average Revenue in $\", ylabel=\"Frequency\", title=\"Simulation Result\")\n",
    "plt.show"
   ]
  }
 ],
 "metadata": {
  "kernelspec": {
   "display_name": "Python 3 (ipykernel)",
   "language": "python",
   "name": "python3"
  },
  "language_info": {
   "codemirror_mode": {
    "name": "ipython",
    "version": 3
   },
   "file_extension": ".py",
   "mimetype": "text/x-python",
   "name": "python",
   "nbconvert_exporter": "python",
   "pygments_lexer": "ipython3",
   "version": "3.9.4"
  }
 },
 "nbformat": 4,
 "nbformat_minor": 5
}
